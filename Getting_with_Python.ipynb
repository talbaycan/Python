{
  "nbformat": 4,
  "nbformat_minor": 0,
  "metadata": {
    "colab": {
      "provenance": [],
      "authorship_tag": "ABX9TyNRfJruWePs8zWe3OLKciFI",
      "include_colab_link": true
    },
    "kernelspec": {
      "name": "python3",
      "display_name": "Python 3"
    },
    "language_info": {
      "name": "python"
    }
  },
  "cells": [
    {
      "cell_type": "markdown",
      "metadata": {
        "id": "view-in-github",
        "colab_type": "text"
      },
      "source": [
        "<a href=\"https://colab.research.google.com/github/talbaycan/Python/blob/main/Getting_with_Python.ipynb\" target=\"_parent\"><img src=\"https://colab.research.google.com/assets/colab-badge.svg\" alt=\"Open In Colab\"/></a>"
      ]
    },
    {
      "cell_type": "markdown",
      "source": [
        "GETTING STARTED"
      ],
      "metadata": {
        "id": "xEnLt1SDZn2d"
      }
    },
    {
      "cell_type": "code",
      "source": [
        "6-2 #HUHH"
      ],
      "metadata": {
        "colab": {
          "base_uri": "https://localhost:8080/"
        },
        "id": "ZSK9sMepa6RW",
        "outputId": "5faf2b52-d225-4b8a-cef9-f106f3dbe0f9"
      },
      "execution_count": null,
      "outputs": [
        {
          "output_type": "execute_result",
          "data": {
            "text/plain": [
              "4"
            ]
          },
          "metadata": {},
          "execution_count": 9
        }
      ]
    },
    {
      "cell_type": "code",
      "source": [
        "print (\"Hello\")"
      ],
      "metadata": {
        "colab": {
          "base_uri": "https://localhost:8080/"
        },
        "id": "FR26nlQWZ3Q0",
        "outputId": "583bec2f-552a-4c53-9506-880e0c19dad8"
      },
      "execution_count": null,
      "outputs": [
        {
          "output_type": "stream",
          "name": "stdout",
          "text": [
            "Hello\n"
          ]
        }
      ]
    },
    {
      "cell_type": "code",
      "source": [
        "type({\"Hello\",2,3})"
      ],
      "metadata": {
        "colab": {
          "base_uri": "https://localhost:8080/"
        },
        "id": "2quo5UJ7g3Sn",
        "outputId": "7f07d211-1b7d-4dc6-896e-cb775f66ec42"
      },
      "execution_count": null,
      "outputs": [
        {
          "output_type": "execute_result",
          "data": {
            "text/plain": [
              "set"
            ]
          },
          "metadata": {},
          "execution_count": 19
        }
      ]
    },
    {
      "cell_type": "code",
      "source": [
        "country_name = \"United Kingdom\"\n",
        "city_name = \"London\"\n",
        "print (country_name)\n",
        "print (city_name)\n",
        "len(country_name)\n",
        "len(city_name)"
      ],
      "metadata": {
        "colab": {
          "base_uri": "https://localhost:8080/"
        },
        "id": "yoNwn0bti72M",
        "outputId": "c947779d-8410-44cf-e45f-fb1346f0fbac"
      },
      "execution_count": null,
      "outputs": [
        {
          "output_type": "stream",
          "name": "stdout",
          "text": [
            "United Kingdom\n",
            "London\n"
          ]
        },
        {
          "output_type": "execute_result",
          "data": {
            "text/plain": [
              "6"
            ]
          },
          "metadata": {},
          "execution_count": 25
        }
      ]
    },
    {
      "cell_type": "code",
      "source": [
        "num = 423\n",
        "type(num)\n",
        "str(num)"
      ],
      "metadata": {
        "colab": {
          "base_uri": "https://localhost:8080/",
          "height": 35
        },
        "id": "qqw-qwvXjj84",
        "outputId": "9f1d1a45-930c-452a-ae84-aaa83dbb12e2"
      },
      "execution_count": null,
      "outputs": [
        {
          "output_type": "execute_result",
          "data": {
            "text/plain": [
              "'423'"
            ],
            "application/vnd.google.colaboratory.intrinsic+json": {
              "type": "string"
            }
          },
          "metadata": {},
          "execution_count": 28
        }
      ]
    },
    {
      "cell_type": "code",
      "source": [
        "num2 = 4.532\n",
        "type(num2)\n",
        "int(num2)"
      ],
      "metadata": {
        "colab": {
          "base_uri": "https://localhost:8080/"
        },
        "id": "GrzISRnhjzma",
        "outputId": "3fedb845-25fe-4bd6-cac7-e210353dbc92"
      },
      "execution_count": null,
      "outputs": [
        {
          "output_type": "execute_result",
          "data": {
            "text/plain": [
              "4"
            ]
          },
          "metadata": {},
          "execution_count": 31
        }
      ]
    },
    {
      "cell_type": "code",
      "source": [
        "ste_num = \"345\"\n",
        "int(ste_num)+1"
      ],
      "metadata": {
        "colab": {
          "base_uri": "https://localhost:8080/"
        },
        "id": "qJlpvnvjkM63",
        "outputId": "a31db31e-4675-4c4f-aaf7-f0452612db81"
      },
      "execution_count": null,
      "outputs": [
        {
          "output_type": "execute_result",
          "data": {
            "text/plain": [
              "346"
            ]
          },
          "metadata": {},
          "execution_count": 35
        }
      ]
    },
    {
      "cell_type": "code",
      "source": [
        "print(\"here is \\rthe new line\")"
      ],
      "metadata": {
        "colab": {
          "base_uri": "https://localhost:8080/"
        },
        "id": "nsGXDjKAmTLs",
        "outputId": "ffb221f6-979a-4c1d-86da-f2c11ec696d5"
      },
      "execution_count": null,
      "outputs": [
        {
          "output_type": "stream",
          "name": "stdout",
          "text": [
            "here is \rthe new line\n"
          ]
        }
      ]
    },
    {
      "cell_type": "code",
      "source": [
        "mystring = \"Track\"\n",
        "mystring\n",
        "mystring[::-1]"
      ],
      "metadata": {
        "colab": {
          "base_uri": "https://localhost:8080/",
          "height": 35
        },
        "id": "jdCWNml3qDOh",
        "outputId": "f61ab244-0bd1-42bc-85a6-5205291d33be"
      },
      "execution_count": null,
      "outputs": [
        {
          "output_type": "execute_result",
          "data": {
            "text/plain": [
              "'kcarT'"
            ],
            "application/vnd.google.colaboratory.intrinsic+json": {
              "type": "string"
            }
          },
          "metadata": {},
          "execution_count": 80
        }
      ]
    },
    {
      "cell_type": "code",
      "source": [
        "str1 = \"Hello today is \\n\"\n",
        "str2 = \"2nd November\"\n",
        "print(str1+str2+\"_\")"
      ],
      "metadata": {
        "colab": {
          "base_uri": "https://localhost:8080/"
        },
        "id": "KuZN8mrkuu-e",
        "outputId": "4361fbdb-a380-4446-f371-e0c2ea51e80a"
      },
      "execution_count": null,
      "outputs": [
        {
          "output_type": "stream",
          "name": "stdout",
          "text": [
            "Hello today is \n",
            "2nd November_\n"
          ]
        }
      ]
    },
    {
      "cell_type": "code",
      "source": [
        "print(str1*5)"
      ],
      "metadata": {
        "colab": {
          "base_uri": "https://localhost:8080/"
        },
        "id": "BS0LL23PvlV_",
        "outputId": "a81720a7-d563-4c10-cca9-a1ed22f07071"
      },
      "execution_count": null,
      "outputs": [
        {
          "output_type": "stream",
          "name": "stdout",
          "text": [
            "Hello today is \n",
            "Hello today is \n",
            "Hello today is \n",
            "Hello today is \n",
            "Hello today is \n",
            "\n"
          ]
        }
      ]
    },
    {
      "cell_type": "code",
      "source": [
        "mystring3 = \"HEY HERE IS MY STRING\"\n",
        "mystring3.split(\"E\")"
      ],
      "metadata": {
        "colab": {
          "base_uri": "https://localhost:8080/"
        },
        "id": "TEXRA5Lsyvk2",
        "outputId": "7c36f985-f10a-46a5-f5c5-32e6dd5d51d4"
      },
      "execution_count": null,
      "outputs": [
        {
          "output_type": "execute_result",
          "data": {
            "text/plain": [
              "['H', 'Y H', 'R', ' IS MY STRING']"
            ]
          },
          "metadata": {},
          "execution_count": 106
        }
      ]
    },
    {
      "cell_type": "code",
      "source": [
        "print(mystring3+\" \"+\"5\")"
      ],
      "metadata": {
        "colab": {
          "base_uri": "https://localhost:8080/"
        },
        "id": "LPxiRSD_1fFd",
        "outputId": "72d7bc3b-4199-48da-a6cc-6d49ca23a309"
      },
      "execution_count": null,
      "outputs": [
        {
          "output_type": "stream",
          "name": "stdout",
          "text": [
            "HEY HERE IS MY STRING 5\n"
          ]
        }
      ]
    },
    {
      "cell_type": "code",
      "source": [
        "\"my salary will be {} by next April\".format(5000)"
      ],
      "metadata": {
        "colab": {
          "base_uri": "https://localhost:8080/",
          "height": 35
        },
        "id": "KxDhSP-F2SY4",
        "outputId": "d773b2a1-3f0b-482b-a051-d2ad56636cc5"
      },
      "execution_count": null,
      "outputs": [
        {
          "output_type": "execute_result",
          "data": {
            "text/plain": [
              "'my salary will be 5000 by next April'"
            ],
            "application/vnd.google.colaboratory.intrinsic+json": {
              "type": "string"
            }
          },
          "metadata": {},
          "execution_count": 111
        }
      ]
    },
    {
      "cell_type": "code",
      "source": [
        "mystring4 = \"my salary will be {} by next April\"\n",
        "salary = \"£5000\"\n",
        "print(mystring4.format(salary))"
      ],
      "metadata": {
        "colab": {
          "base_uri": "https://localhost:8080/"
        },
        "id": "ci3mD3rC2q32",
        "outputId": "a8f237e8-3a2e-440f-d3e4-7b354c92ce14"
      },
      "execution_count": null,
      "outputs": [
        {
          "output_type": "stream",
          "name": "stdout",
          "text": [
            "my salary will be £5000 by next April\n"
          ]
        }
      ]
    },
    {
      "cell_type": "code",
      "source": [
        "mystring5 = \"I bought {} kg of {} that cost {} pounds\"\n",
        "weight = 5\n",
        "product = \"mango\"\n",
        "value = \"£20\"\n",
        "print(mystring5.format(weight,product,value))"
      ],
      "metadata": {
        "colab": {
          "base_uri": "https://localhost:8080/"
        },
        "id": "_81QtL0a3wdi",
        "outputId": "d33db778-55e9-4c3f-989e-44d03ce93d8a"
      },
      "execution_count": null,
      "outputs": [
        {
          "output_type": "stream",
          "name": "stdout",
          "text": [
            "I bought 5 kg of mango that cost £20 pounds\n"
          ]
        }
      ]
    },
    {
      "cell_type": "code",
      "source": [
        "print(\"my %s will be %d by next April\"%(\"salary\",5000))"
      ],
      "metadata": {
        "colab": {
          "base_uri": "https://localhost:8080/"
        },
        "id": "GQFup76s7eFe",
        "outputId": "0f2a4bce-3dea-4cf9-c813-0ecfbe81c3d1"
      },
      "execution_count": null,
      "outputs": [
        {
          "output_type": "stream",
          "name": "stdout",
          "text": [
            "my salary will be 5000 by next April\n"
          ]
        }
      ]
    },
    {
      "cell_type": "code",
      "source": [
        "print(\"my salary will be %d by next April and %f by June\"%(5000,5000.20))"
      ],
      "metadata": {
        "colab": {
          "base_uri": "https://localhost:8080/"
        },
        "id": "abUOI_Rz8I7j",
        "outputId": "76a1982a-55ae-4c6f-ddec-f145d2f8ad67"
      },
      "execution_count": null,
      "outputs": [
        {
          "output_type": "stream",
          "name": "stdout",
          "text": [
            "my salary will be 5000 by next April and 5000.200000 by June\n"
          ]
        }
      ]
    },
    {
      "cell_type": "code",
      "source": [
        "print(\"my %s will be 5000 by next April and %f by June\"%(\"salary\",5000.20))"
      ],
      "metadata": {
        "colab": {
          "base_uri": "https://localhost:8080/"
        },
        "id": "DB5--Ikf8uWj",
        "outputId": "7b59e9f1-2de0-40ad-9473-7d2cc2b8afb5"
      },
      "execution_count": null,
      "outputs": [
        {
          "output_type": "stream",
          "name": "stdout",
          "text": [
            "my salary will be 5000 by next April and 5000.200000 by June\n"
          ]
        }
      ]
    },
    {
      "cell_type": "code",
      "source": [
        "6%6"
      ],
      "metadata": {
        "id": "OQgu8FQz-on6",
        "outputId": "d67cf041-7f24-4383-b615-e5c11b201418",
        "colab": {
          "base_uri": "https://localhost:8080/"
        }
      },
      "execution_count": null,
      "outputs": [
        {
          "output_type": "execute_result",
          "data": {
            "text/plain": [
              "0"
            ]
          },
          "metadata": {},
          "execution_count": 136
        }
      ]
    }
  ]
}